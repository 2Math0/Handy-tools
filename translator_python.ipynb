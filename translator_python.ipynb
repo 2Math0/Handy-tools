{
 "cells": [
  {
   "cell_type": "markdown",
   "metadata": {},
   "source": []
  },
  {
   "cell_type": "code",
   "execution_count": 97,
   "metadata": {},
   "outputs": [],
   "source": [
    "from deep_translator import GoogleTranslator"
   ]
  },
  {
   "cell_type": "code",
   "execution_count": 98,
   "metadata": {},
   "outputs": [],
   "source": [
    "to_lang='ar'\n",
    "ar_dict = {}"
   ]
  },
  {
   "cell_type": "code",
   "execution_count": 99,
   "metadata": {},
   "outputs": [],
   "source": [
    "en_dict = {\n",
    "  \"sign_up_face\": \"Sign up With Facebook\",\n",
    "  \"sign_up_google\": \"Sign up With google\",\n",
    "  \"username\": \"Username\",\n",
    "  \"password\": \"Password\",\n",
    "  \"old_pass\": \"old Password\",\n",
    "  \"new_pass\": \"New Password\",\n",
    "  \"login\": \"Login\",\n",
    "  \"home\": \"Home\",\n",
    "  \"request\": \"Request\",\n",
    "  \"docs\": \"Documents\",\n",
    "  \"profile\": \"Profile\",\n",
    "  \"join_meeting\": \"Join The Meeting\",\n",
    "  \"today\": \"Today\",\n",
    "  \"stable_internet\": \"Stable Internet\",\n",
    "  \"expired_id\": \"Your non expired government issued ID\",\n",
    "  \"work_cam\": \"working webcam/ video/ camera\",\n",
    "  \"microphone\": \"Microphone and speaker ON and working\",\n",
    "  \"appointment\": \"Appointment\",\n",
    "  \"select_file\": \"Select File\",\n",
    "  \"more_docs\": \"ADDITIONAL DOCUMENTS & SERVICES\",\n",
    "  \"first_name\": \"First Name\",\n",
    "  \"last_name\": \"Last Name\",\n",
    "  \"phone\": \"Phone\",\n",
    "  \"email\": \"Email\",\n",
    "  \"validate\": \"Validate\",\n",
    "  \"coupon_code\": \"Coupon Code\",\n",
    "  \"card_number\": \"Card Number\",\n",
    "  \"pay\": \"Pay\",\n",
    "  \"services\": \"Services\",\n",
    "  \"about_us\": \"About Us\",\n",
    "  \"contact_us\": \"Contact Us\",\n",
    "  \"update\": \"Update\",\n",
    "  \"profile_settings\": \"Profile Settings\",\n",
    "  \"logout\": \"Logout\",\n",
    "  \"language\": \"Language\",\n",
    "  \"register\": \"Register\",\n",
    "  \"select_type_of_join\": \"Choose Type of enrollment\",\n",
    "  'lawyer': \"Lawyer\",\n",
    "  \"client\": \"Client\",\n",
    "  \"register_as_lawyer\": \"Register as a lawyer\",\n",
    "  \"name\": \"Name\",\n",
    "  \"postal_code\": \"Postal Code\",\n",
    "  \"personal_image\": \"Personal Image\",\n",
    "  \"identification\": \"Identification\",\n",
    "  \"show_doc\": \"Show Document\",\n",
    "  \"meetings\": \"Meetings\",\n",
    "  \"user_cancel_error\": \"user_cancel_error\",\n",
    "  \"forbidden_err\": \"forbidden_err\",\n",
    "  \"connection_err\": \"connection_err\",\n",
    "  \"not_found\": \"not_found\",\n",
    "  \"time_out\": \"time_out\",\n",
    "  \"un_authorized_error\": \"un_authorized_error\",\n",
    "  \"unexpected_err\": \"unexpected_err\",\n",
    "  \"Your Full Name\": \"Your Full Name\",\n",
    "  'Phone Number': \"Phone Number\",\n",
    "  \"What is your current profession?\": \"What is your current profession?\",\n",
    "  \"Lawyer - Practicing\": \"Lawyer - Practicing\",\n",
    "  \"Lawyer - Not practicing\": \"Lawyer - Not practicing\",\n",
    "  \"Paralegal - Practicing\": \"Paralegal - Practicing\",\n",
    "  \"Paralegal - Not Practicing\": \"Paralegal - Not Practicing\",\n",
    "  \"Other\": \"Other\",\n",
    "  \"What is your Law Society ID / number?\":\n",
    "      \"What is your Law Society ID / number?\",\n",
    "  'ID Number': 'ID Number',\n",
    "  \"Are you appointed as a Notary Public? \":\n",
    "      \"Are you appointed as a Notary Public? \",\n",
    "  \"Yes\": \"Yes\",\n",
    "  \"No\": \"No\",\n",
    "  \"In process of applying or recently applied.\":\n",
    "      \"In process of applying or recently applied.\",\n",
    "  \"Are you able to meet clients in-person at your home / office?\":\n",
    "      \"Are you able to meet clients in-person at your home / office?\",\n",
    "  \"Primary Address: What is the full mailing address where you can meet clients? (street address, city, province, postal code)\":\n",
    "      \"Primary Address: What is the full mailing address where you can meet clients? (street address, city, province, postal code)\",\n",
    "  'Primary Address': 'Primary Address',\n",
    "  \"Which days & hours of operation can you serve notary clients at the Primary Address? Be precise\":\n",
    "      \"Which days & hours of operation can you serve notary clients at the Primary Address? Be precise\",\n",
    "  'Primary Address Operation Time': 'Primary Address Operation Time',\n",
    "  \"Can you receive mail at the above address?\":\n",
    "      \"Can you receive mail at the above address?\",\n",
    "  \"Secondary Address: Do you have a secondary address where you can meet clients? If yes, please provide the street address, city, province, postal code.\":\n",
    "      \"Secondary Address: Do you have a secondary address where you can meet clients? If yes, please provide the street address, city, province, postal code.\",\n",
    "  'Secondary Address': 'Secondary Address',\n",
    "  'Secondary Address Operation Time': 'Secondary Address Operation Time',\n",
    "  \"How did you hear about Notary Space?\":\n",
    "      \"How did you hear about Notary Space?\",\n",
    "  \"Online Search\": \"Online Search\",\n",
    "  \"Indeed\": \"Indeed\",\n",
    "  \"Job Posting\": \"Job Posting\",\n",
    "  \"Word of mouth / reference\": \"Word of mouth / reference\",\n",
    "  \"Association\": \"Association\",\n",
    "  \"University / College\": \"University / College\",\n",
    "  \"Meeting On\": \"Meeting On\",\n",
    "  'status': 'status',\n",
    "  'preview': 'preview',\n",
    "  'balance': 'balance',\n",
    "  'online_notarization': 'online_notarization',\n",
    "  \"Last Refreshed On\": \"Last Refreshed On\",\n",
    "  'My Balance': 'My Balance',\n",
    "  'Financial History': 'Financial History',\n",
    "  'Documents': 'Documents',\n",
    "}"
   ]
  },
  {
   "cell_type": "code",
   "execution_count": 100,
   "metadata": {},
   "outputs": [],
   "source": [
    "for k,v in en_dict.items():\n",
    "    ar_dict[k] = GoogleTranslator(source='auto', target=to_lang).translate(v)"
   ]
  },
  {
   "cell_type": "code",
   "execution_count": 101,
   "metadata": {},
   "outputs": [
    {
     "name": "stdout",
     "output_type": "stream",
     "text": [
      "{'sign_up_face': 'اشترك عبر حساب فايسبوك', 'sign_up_google': 'اشترك مع جوجل', 'username': 'اسم المستخدم', 'password': 'كلمة المرور', 'old_pass': 'كلمة المرور القديمة', 'new_pass': 'كلمة السر الجديدة', 'login': 'تسجيل الدخول', 'home': 'مسكن', 'request': 'طلب', 'docs': 'وثائق', 'profile': 'الملف الشخصي', 'join_meeting': 'انضم للاجتماع', 'today': 'اليوم', 'stable_internet': 'إنترنت مستقر', 'expired_id': 'بطاقة هوية غير منتهية الصلاحية صادرة عن جهة حكومية', 'work_cam': 'تعمل كاميرا الويب / الفيديو / الكاميرا', 'microphone': 'الميكروفون ومكبر الصوت قيد التشغيل والعمل', 'appointment': 'ميعاد', 'select_file': 'حدد ملف', 'more_docs': 'مستندات وخدمات إضافية', 'first_name': 'الاسم الاول', 'last_name': 'الكنية', 'phone': 'هاتف', 'email': 'البريد الإلكتروني', 'validate': 'تحقق', 'coupon_code': 'رمز الكوبون', 'card_number': 'رقم البطاقة', 'pay': 'يدفع', 'services': 'خدمات', 'about_us': 'معلومات عنا', 'contact_us': 'اتصل بنا', 'update': 'تحديث', 'profile_settings': 'إعدادات الملف الشخصي', 'logout': 'تسجيل خروج', 'language': 'لغة', 'register': 'يسجل', 'select_type_of_join': 'اختر نوع التسجيل', 'lawyer': 'محامي', 'client': 'عميل', 'register_as_lawyer': 'سجل كمحام', 'name': 'اسم', 'postal_code': 'رمز بريدي', 'personal_image': 'الصورة الشخصية', 'identification': 'هوية', 'show_doc': 'إظهار المستند', 'meetings': 'الاجتماعات', 'user_cancel_error': 'user_cancel_error', 'forbidden_err': 'forbidden_err', 'connection_err': 'connect_err', 'not_found': 'لم يتم العثور على', 'time_out': 'نفذ الوقت', 'un_authorized_error': 'خطأ غير مصرح به', 'unexpected_err': 'غير متوقع', 'Your Full Name': 'اسمك الكامل', 'Phone Number': 'رقم الهاتف', 'What is your current profession?': 'ما هي مهنتك الحالية؟', 'Lawyer - Practicing': 'محامي - ممارس', 'Lawyer - Not practicing': 'محامي - لا يمارس', 'Paralegal - Practicing': 'شبه قانوني - ممارس', 'Paralegal - Not Practicing': 'شبه قانوني - غير ممارس', 'Other': 'آخر', 'What is your Law Society ID / number?': 'ما هو معرف / رقم الجمعية القانونية الخاصة بك؟', 'ID Number': 'رقم الهوية', 'Are you appointed as a Notary Public? ': 'هل تم تعيينك كاتب عدل؟', 'Yes': 'نعم', 'No': 'رقم', 'In process of applying or recently applied.': 'قيد التقديم أو تم التقديم مؤخرًا.', 'Are you able to meet clients in-person at your home / office?': 'هل يمكنك مقابلة العملاء شخصيًا في منزلك / مكتبك؟', 'Primary Address: What is the full mailing address where you can meet clients? (street address, city, province, postal code)': 'العنوان الأساسي: ما هو العنوان البريدي الكامل حيث يمكنك مقابلة العملاء؟ (عنوان الشارع ، المدينة ، المقاطعة ، الرمز البريدي)', 'Primary Address': 'العنوان الأساسي', 'Which days & hours of operation can you serve notary clients at the Primary Address? Be precise': 'ما هي أيام وساعات العمل التي يمكنك أن تخدم فيها عملاء كاتب العدل على العنوان الرئيسي؟ يكون دقيقا', 'Primary Address Operation Time': 'وقت تشغيل العنوان الأساسي', 'Can you receive mail at the above address?': 'هل يمكنك استلام البريد على العنوان أعلاه؟', 'Secondary Address: Do you have a secondary address where you can meet clients? If yes, please provide the street address, city, province, postal code.': 'العنوان الثانوي: هل لديك عنوان ثانوي يمكنك من خلاله مقابلة العملاء؟ إذا كانت الإجابة بنعم ، يرجى تقديم عنوان الشارع والمدينة والمقاطعة والرمز البريدي.', 'Secondary Address': 'العنوان الثانوي', 'Secondary Address Operation Time': 'وقت تشغيل العنوان الثانوي', 'How did you hear about Notary Space?': 'كيف سمعت عن Notary Space؟', 'Online Search': 'البحث عبر الإنترنت', 'Indeed': 'في الواقع', 'Job Posting': 'نشر الوظيفة', 'Word of mouth / reference': 'كلمة شفهية / مرجع', 'Association': 'منظمة', 'University / College': 'الكلية الجامعية', 'Meeting On': 'الاجتماع يوم', 'status': 'الحالة', 'preview': 'معاينة', 'balance': 'الرصيد', 'online_notarization': 'online_notarization', 'Last Refreshed On': 'آخر تحديث في', 'My Balance': 'رصيدي', 'Financial History': 'التاريخ المالي', 'Documents': 'وثائق'}\n"
     ]
    }
   ],
   "source": [
    "print(ar_dict)"
   ]
  }
 ],
 "metadata": {
  "kernelspec": {
   "display_name": "Python 3.10.4 64-bit",
   "language": "python",
   "name": "python3"
  },
  "language_info": {
   "codemirror_mode": {
    "name": "ipython",
    "version": 3
   },
   "file_extension": ".py",
   "mimetype": "text/x-python",
   "name": "python",
   "nbconvert_exporter": "python",
   "pygments_lexer": "ipython3",
   "version": "3.10.4"
  },
  "orig_nbformat": 4,
  "vscode": {
   "interpreter": {
    "hash": "916dbcbb3f70747c44a77c7bcd40155683ae19c65e1c03b4aa3499c5328201f1"
   }
  }
 },
 "nbformat": 4,
 "nbformat_minor": 2
}
